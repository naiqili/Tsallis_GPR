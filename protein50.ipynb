{
 "cells": [
  {
   "cell_type": "markdown",
   "metadata": {},
   "source": [
    "# 1. Protein"
   ]
  },
  {
   "cell_type": "markdown",
   "metadata": {},
   "source": [
    "## 1.0 Startup"
   ]
  },
  {
   "cell_type": "code",
   "execution_count": 1,
   "metadata": {},
   "outputs": [
    {
     "name": "stdout",
     "output_type": "stream",
     "text": [
      "executing gpml startup script...\r\n"
     ]
    }
   ],
   "source": [
    "disp ('executing gpml startup script...')\n",
    "mydir = fileparts (mfilename ('fullpath'));                 % where am I located\n",
    "addpath (mydir)\n",
    "dirs = {'cov','doc','inf','lik','mean','prior','util'};           % core folders\n",
    "for d = dirs, addpath (fullfile (mydir, d{1})), end\n",
    "dirs = {{'util','minfunc'},{'util','minfunc','compiled'}};     % minfunc folders\n",
    "for d = dirs, addpath (fullfile (mydir, d{1}{:})), end\n",
    "% addpath([mydir,'/util/sparseinv'])\n",
    "pkg load statistics"
   ]
  },
  {
   "cell_type": "code",
   "execution_count": 2,
   "metadata": {},
   "outputs": [
    {
     "name": "stdout",
     "output_type": "stream",
     "text": [
      "dataset = protein\r\n"
     ]
    }
   ],
   "source": [
    "dataset = 'protein'\n",
    "load ('./data/protein.mat');\n",
    "[ndata, ~] = size(M);\n",
    "X = M(:,2:9);\n",
    "Y = M(:,1);\n",
    "R = randperm(ndata);        \n",
    "xt = X(R(1:5730),:);\n",
    "yt = Y(R(1:5730));\n",
    "R(1:5730) = [];\n",
    "x = X(R,:);          \n",
    "y = Y(R);\n",
    "n = 40000; nt = 5730;   %Ms = 50"
   ]
  },
  {
   "cell_type": "code",
   "execution_count": 3,
   "metadata": {},
   "outputs": [],
   "source": [
    "sf2 = 1 ; ell = 1 ; sn2 = 0.1 ; \n",
    "d = size(x,2);\n",
    "hyp.cov = log([ones(d,1)*ell;sf2]); hyp.lik = log(sn2); hyp.mean = [];\n",
    "opts.Xnorm = 'Y' ; opts.Ynorm = 'Y' ;\n",
    "opts.Ms = 50 ;\n",
    "opts.ell = ell ; opts.sf2 = sf2 ; opts.sn2 = sn2 ;\n",
    "opts.meanfunc = []; opts.covfunc = @covSEard; opts.likfunc = @likGauss; opts.inffunc = @infGaussLik ;"
   ]
  },
  {
   "cell_type": "markdown",
   "metadata": {},
   "source": [
    "partitionCriterion = 'kmeans'; %, 'kmeans', 'knkmeans'\n",
    "opts.numOptFC = 25 ;\n",
    "opts.partitionCriterion = partitionCriterion ;\n",
    "[models,t_dGP_train] = aggregation_train(x,y,opts) ;\n",
    "save('./res/energymodel', 'models','t_dGP_train')"
   ]
  },
  {
   "cell_type": "code",
   "execution_count": 4,
   "metadata": {},
   "outputs": [],
   "source": [
    "partitionCriterion = 'kmeans'; %, 'kmeans', 'knkmeans'\n",
    "opts.numOptFC = 25 ;\n",
    "opts.partitionCriterion = partitionCriterion ;\n",
    "s = load('./res/proteinmodel');\n",
    "models = s.models;\n"
   ]
  },
  {
   "cell_type": "markdown",
   "metadata": {},
   "source": [
    "## 1.2 GRBCM vs TEGRBCM"
   ]
  },
  {
   "cell_type": "markdown",
   "metadata": {},
   "source": [
    "### 1.2.1 GRBCM baseline"
   ]
  },
  {
   "cell_type": "code",
   "execution_count": 5,
   "metadata": {},
   "outputs": [
    {
     "name": "stdout",
     "output_type": "stream",
     "text": [
      "Processing protein kmeans GRBCM\n",
      "GRBCM: SMSE 5.25166934, MSLL -0.9517, NLPD 2.2785\n"
     ]
    }
   ],
   "source": [
    "criterions = {'GRBCM'}; %, 'GPoE', 'KLRBCM', 'KLGRBCM', 'GRBCM'\n",
    "\n",
    "for j = 1:length(criterions)     \n",
    "    criterion = criterions{j};\n",
    "    printf('Processing %s %s %s\\r\\n', dataset, partitionCriterion, criterion);\n",
    "    opts.partitionCriterion = partitionCriterion ;\n",
    "    %[models,t_dGP_train] = aggregation_train(x,y,opts) ;\n",
    "    [mu_dGP,s2_dGP,t_dGP_predict] = aggregation_predict(xt,models,criterion) ;\n",
    "    [SMSE,MSLL,NLPD] = evaluate(x, y, xt, yt, mu_dGP, s2_dGP);\n",
    "    printf('%s: SMSE %6.8f, MSLL %6.4f, NLPD %6.4f\\r\\n', criterion, SMSE,MSLL,NLPD);\n",
    "    filename = sprintf('./res/%s_%s_%s.mat', dataset, partitionCriterion, criterion);\n",
    "    save(filename, 'SMSE','MSLL','NLPD')\n",
    "endfor"
   ]
  },
  {
   "cell_type": "markdown",
   "metadata": {},
   "source": [
    "### 1.2.2 Grid q"
   ]
  },
  {
   "cell_type": "code",
   "execution_count": 6,
   "metadata": {
    "scrolled": true
   },
   "outputs": [
    {
     "name": "stdout",
     "output_type": "stream",
     "text": [
      "Processing protein kmeans TEGRBCM\n",
      "TEGRBCM: SMSE 4.74397447, MSLL -1.0342, NLPD 2.1961 - q   0.20\n",
      "TEGRBCM: SMSE 4.67093111, MSLL -1.0630, NLPD 2.1673 - q   0.40\n",
      "TEGRBCM: SMSE 4.75820090, MSLL -1.0356, NLPD 2.1946 - q   0.60\n",
      "TEGRBCM: SMSE 4.95647439, MSLL -0.9955, NLPD 2.2348 - q   0.80\n",
      "TEGRBCM: SMSE 5.25166934, MSLL -0.9517, NLPD 2.2785 - q   1.00\n",
      "TEGRBCM: SMSE 5.63684472, MSLL -0.9075, NLPD 2.3228 - q   1.20\n",
      "TEGRBCM: SMSE 6.10599687, MSLL -0.8640, NLPD 2.3662 - q   1.40\n",
      "TEGRBCM: SMSE 6.65212316, MSLL -0.8221, NLPD 2.4082 - q   1.60\n",
      "TEGRBCM: SMSE 7.26668297, MSLL -0.7820, NLPD 2.4483 - q   1.80\n",
      "TEGRBCM: SMSE 7.93967891, MSLL -0.7440, NLPD 2.4863 - q   2.00\n"
     ]
    }
   ],
   "source": [
    "criterions = {'TEGRBCM'}; %, 'TEGRBCM' 'TEGPoE'};\n",
    "qs = 0.2:0.2:2.0;\n",
    "\n",
    "for j = 1:length(criterions)     \n",
    "    criterion = criterions{j};\n",
    "    printf('Processing %s %s %s\\r\\n', dataset, partitionCriterion, criterion);\n",
    "    opts.partitionCriterion = partitionCriterion ;\n",
    "    %[models,t_dGP_train] = aggregation_train(x,y,opts) ;\n",
    "    for q = qs\n",
    "        [mu_dGP,s2_dGP,t_dGP_predict] = aggregation_predict(xt,models,criterion,q) ;\n",
    "        [SMSE,MSLL,NLPD] = evaluate(x, y, xt, yt, mu_dGP, s2_dGP);\n",
    "        printf('%s: SMSE %6.8f, MSLL %6.4f, NLPD %6.4f - q %6.2f\\r\\n', criterion, SMSE,MSLL,NLPD,q);\n",
    "        filename = sprintf('./res/tegrbcm%s_%s_%s_%6.2f.mat', dataset, partitionCriterion, criterion, q);\n",
    "        save(filename, 'SMSE','MSLL','NLPD')\n",
    "    endfor\n",
    "endfor"
   ]
  },
  {
   "cell_type": "markdown",
   "metadata": {},
   "source": [
    "### 1.2.3 Find single q"
   ]
  },
  {
   "cell_type": "code",
   "execution_count": 7,
   "metadata": {},
   "outputs": [],
   "source": [
    "criterion = 'TEGRBCM';"
   ]
  },
  {
   "cell_type": "code",
   "execution_count": null,
   "metadata": {},
   "outputs": [
    {
     "name": "stdout",
     "output_type": "stream",
     "text": [
      "Optimizing q\n",
      "Start preprocessing...\r"
     ]
    }
   ],
   "source": [
    "printf('Optimizing q\\r\\n');\n",
    "q = grad_q(models, criterion, opts, iter=1000, lr=1e-9, lambda=1e6, init_q=0.4);"
   ]
  },
  {
   "cell_type": "code",
   "execution_count": null,
   "metadata": {},
   "outputs": [],
   "source": [
    "q"
   ]
  },
  {
   "cell_type": "code",
   "execution_count": null,
   "metadata": {
    "scrolled": true
   },
   "outputs": [],
   "source": [
    "[mu_dGP,s2_dGP,t_dGP_predict] = aggregation_predict(xt,models,criterion,q) ;\n",
    "[SMSE,MSLL,NLPD] = evaluate(x, y, xt, yt, mu_dGP, s2_dGP);\n",
    "printf('%s: SMSE %6.8f, MSLL %6.4f, NLPD %6.4f\\r\\n', criterion, SMSE,MSLL,NLPD);"
   ]
  },
  {
   "cell_type": "markdown",
   "metadata": {},
   "source": [
    "### 1.2.4 Find multi q"
   ]
  },
  {
   "cell_type": "code",
   "execution_count": null,
   "metadata": {},
   "outputs": [],
   "source": [
    "criterion = 'TEGRBCM';"
   ]
  },
  {
   "cell_type": "code",
   "execution_count": null,
   "metadata": {
    "scrolled": true
   },
   "outputs": [],
   "source": [
    "printf('Optimizing q\\r\\n');\n",
    "iqs = q + 0.01 * rand(opts.Ms,1);\n",
    "qs = mul_grad_q(models, criterion, opts, iter=5000, lr=1e-8, lambda=1e6, init_q=iqs);\n",
    "[mu_dGP,s2_dGP,t_dGP_predict] = mul_aggregation_predict(xt,models,criterion,qs) ;\n",
    "[SMSE,MSLL,NLPD] = evaluate(x, y, xt, yt, mu_dGP, s2_dGP);"
   ]
  },
  {
   "cell_type": "code",
   "execution_count": null,
   "metadata": {
    "scrolled": true
   },
   "outputs": [],
   "source": [
    "qs\n",
    "save('./res/tegrbcmenergydataqs', 'qs');\n",
    "printf('%s: SMSE %6.8f, MSLL %6.4f, NLPD %6.4f\\r\\n', criterion, SMSE,MSLL,NLPD);"
   ]
  },
  {
   "cell_type": "code",
   "execution_count": null,
   "metadata": {},
   "outputs": [],
   "source": []
  }
 ],
 "metadata": {
  "kernelspec": {
   "display_name": "Octave",
   "language": "octave",
   "name": "octave"
  },
  "language_info": {
   "file_extension": ".m",
   "help_links": [
    {
     "text": "GNU Octave",
     "url": "https://www.gnu.org/software/octave/support.html"
    },
    {
     "text": "Octave Kernel",
     "url": "https://github.com/Calysto/octave_kernel"
    },
    {
     "text": "MetaKernel Magics",
     "url": "https://metakernel.readthedocs.io/en/latest/source/README.html"
    }
   ],
   "mimetype": "text/x-octave",
   "name": "octave",
   "version": "4.0.0"
  }
 },
 "nbformat": 4,
 "nbformat_minor": 2
}

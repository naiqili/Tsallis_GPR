{
 "cells": [
  {
   "cell_type": "markdown",
   "metadata": {},
   "source": [
    "# 1. Energy data"
   ]
  },
  {
   "cell_type": "markdown",
   "metadata": {},
   "source": [
    "## 1.0 Startup"
   ]
  },
  {
   "cell_type": "code",
   "execution_count": 1,
   "metadata": {},
   "outputs": [
    {
     "name": "stdout",
     "output_type": "stream",
     "text": [
      "executing gpml startup script...\r\n"
     ]
    }
   ],
   "source": [
    "disp ('executing gpml startup script...')\n",
    "mydir = fileparts (mfilename ('fullpath'));                 % where am I located\n",
    "addpath (mydir)\n",
    "dirs = {'cov','doc','inf','lik','mean','prior','util'};           % core folders\n",
    "for d = dirs, addpath (fullfile (mydir, d{1})), end\n",
    "dirs = {{'util','minfunc'},{'util','minfunc','compiled'}};     % minfunc folders\n",
    "for d = dirs, addpath (fullfile (mydir, d{1}{:})), end\n",
    "% addpath([mydir,'/util/sparseinv'])\n",
    "pkg load statistics"
   ]
  },
  {
   "cell_type": "code",
   "execution_count": 2,
   "metadata": {},
   "outputs": [
    {
     "name": "stdout",
     "output_type": "stream",
     "text": [
      "dataset = energy_data\r\n"
     ]
    }
   ],
   "source": [
    "dataset = 'energy_data'\n",
    "load ('./data/energy_data.mat');\n",
    "[ndata, ~] = size(M);\n",
    "X = M(:,[1:25,27:28]);\n",
    "Y = M(:,26);\n",
    "R = randperm(ndata);        \n",
    "xt = X(R(1:1735),:);\n",
    "yt = Y(R(1:1735));\n",
    "R(1:1735) = [];\n",
    "x = X(R,:);          \n",
    "y = Y(R);\n",
    "n = 18000; nt = 1735;   %Ms = 15"
   ]
  },
  {
   "cell_type": "code",
   "execution_count": 3,
   "metadata": {},
   "outputs": [],
   "source": [
    "sf2 = 1 ; ell = 1 ; sn2 = 0.1 ; \n",
    "d = size(x,2);\n",
    "hyp.cov = log([ones(d,1)*ell;sf2]); hyp.lik = log(sn2); hyp.mean = [];\n",
    "opts.Xnorm = 'N' ; opts.Ynorm = 'N' ;\n",
    "opts.Ms = 250 ;\n",
    "opts.ell = ell ; opts.sf2 = sf2 ; opts.sn2 = sn2 ;\n",
    "opts.meanfunc = []; opts.covfunc = @covSEard; opts.likfunc = @likGauss; opts.inffunc = @infGaussLik ;"
   ]
  },
  {
   "cell_type": "code",
   "execution_count": 4,
   "metadata": {},
   "outputs": [
    {
     "name": "stdout",
     "output_type": "stream",
     "text": [
      "Linesearch     25;  Value 3.058509e+04\n"
     ]
    }
   ],
   "source": [
    "partitionCriterion = 'kmeans'; %, 'kmeans', 'knkmeans'\n",
    "opts.numOptFC = 25 ;\n",
    "opts.partitionCriterion = partitionCriterion ;\n",
    "[models,t_dGP_train] = aggregation_train(x,y,opts) ;\n",
    "save('./res/energymodel250', 'models','t_dGP_train')"
   ]
  },
  {
   "cell_type": "markdown",
   "metadata": {},
   "source": [
    "partitionCriterion = 'kmeans'; %, 'kmeans', 'knkmeans'\n",
    "opts.numOptFC = 25 ;\n",
    "opts.partitionCriterion = partitionCriterion ;\n",
    "s = load('./res/energymodel30');\n",
    "models = s.models;\n"
   ]
  },
  {
   "cell_type": "markdown",
   "metadata": {},
   "source": [
    "## 1.1 RBCM vs TERBCM"
   ]
  },
  {
   "cell_type": "code",
   "execution_count": null,
   "metadata": {},
   "outputs": [
    {
     "name": "stdout",
     "output_type": "stream",
     "text": [
      "Processing energy_data kmeans RBCM\n",
      "RBCM: SMSE 2.43751172, MSLL 1.0672, NLPD 3.8989\n"
     ]
    }
   ],
   "source": [
    "criterions = {'RBCM'}; %, 'GPoE', 'KLRBCM', 'KLGRBCM', 'GRBCM'\n",
    "\n",
    "for j = 1:length(criterions)     \n",
    "    criterion = criterions{j};\n",
    "    printf('Processing %s %s %s\\r\\n', dataset, partitionCriterion, criterion);\n",
    "    [mu_dGP,s2_dGP,t_dGP_predict] = aggregation_predict(xt,models,criterion) ;\n",
    "    [SMSE,MSLL,NLPD] = evaluate(x, y, xt, yt, mu_dGP, s2_dGP);\n",
    "    printf('%s: SMSE %6.8f, MSLL %6.4f, NLPD %6.4f\\r\\n', criterion, SMSE,MSLL,NLPD);\n",
    "    filename = sprintf('./res/%s_%s_%s.mat', dataset, partitionCriterion, criterion);\n",
    "    save(filename, 'SMSE','MSLL','NLPD')\n",
    "endfor"
   ]
  },
  {
   "cell_type": "markdown",
   "metadata": {},
   "source": [
    "### 1.1.4 Find multi q"
   ]
  },
  {
   "cell_type": "code",
   "execution_count": null,
   "metadata": {},
   "outputs": [],
   "source": [
    "criterion = 'TERBCM';"
   ]
  },
  {
   "cell_type": "code",
   "execution_count": null,
   "metadata": {
    "scrolled": true
   },
   "outputs": [
    {
     "name": "stdout",
     "output_type": "stream",
     "text": [
      "Optimizing q\n",
      "iqs =\n",
      "\n",
      "   2.2052\n",
      "   2.2026\n",
      "   2.2007\n",
      "   2.2084\n",
      "   2.2084\n",
      "   2.2051\n",
      "   2.2034\n",
      "   2.2026\n",
      "   2.2097\n",
      "   2.2076\n",
      "   2.2007\n",
      "   2.2059\n",
      "   2.2076\n",
      "   2.2062\n",
      "   2.2015\n",
      "   2.2059\n",
      "   2.2006\n",
      "   2.2077\n",
      "   2.2079\n",
      "   2.2001\n",
      "   2.2050\n",
      "   2.2074\n",
      "   2.2090\n",
      "   2.2086\n",
      "   2.2090\n",
      "   2.2085\n",
      "   2.2099\n",
      "   2.2047\n",
      "   2.2021\n",
      "   2.2044\n",
      "   2.2045\n",
      "   2.2014\n",
      "   2.2062\n",
      "   2.2027\n",
      "   2.2062\n",
      "   2.2023\n",
      "   2.2065\n",
      "   2.2056\n",
      "   2.2075\n",
      "   2.2021\n",
      "   2.2064\n",
      "   2.2082\n",
      "   2.2070\n",
      "   2.2095\n",
      "   2.2030\n",
      "   2.2050\n",
      "   2.2019\n",
      "   2.2046\n",
      "   2.2004\n",
      "   2.2016\n",
      "   2.2025\n",
      "   2.2022\n",
      "   2.2009\n",
      "   2.2012\n",
      "   2.2061\n",
      "   2.2050\n",
      "   2.2024\n",
      "   2.2022\n",
      "   2.2030\n",
      "   2.2030\n",
      "   2.2007\n",
      "   2.2057\n",
      "   2.2066\n",
      "   2.2010\n",
      "   2.2065\n",
      "   2.2016\n",
      "   2.2059\n",
      "   2.2040\n",
      "   2.2069\n",
      "   2.2033\n",
      "   2.2031\n",
      "   2.2073\n",
      "   2.2082\n",
      "   2.2069\n",
      "   2.2022\n",
      "   2.2086\n",
      "   2.2058\n",
      "   2.2081\n",
      "   2.2054\n",
      "   2.2066\n",
      "   2.2074\n",
      "   2.2050\n",
      "   2.2004\n",
      "   2.2038\n",
      "   2.2054\n",
      "   2.2010\n",
      "   2.2066\n",
      "   2.2076\n",
      "   2.2080\n",
      "   2.2033\n",
      "   2.2067\n",
      "   2.2004\n",
      "   2.2018\n",
      "   2.2019\n",
      "   2.2045\n",
      "   2.2098\n",
      "   2.2083\n",
      "   2.2080\n",
      "   2.2012\n",
      "   2.2029\n",
      "   2.2026\n",
      "   2.2015\n",
      "   2.2011\n",
      "   2.2044\n",
      "   2.2033\n",
      "   2.2028\n",
      "   2.2025\n",
      "   2.2005\n",
      "   2.2061\n",
      "   2.2090\n",
      "   2.2013\n",
      "   2.2074\n",
      "   2.2088\n",
      "   2.2049\n",
      "   2.2025\n",
      "   2.2049\n",
      "   2.2060\n",
      "   2.2026\n",
      "   2.2022\n",
      "   2.2083\n",
      "   2.2032\n",
      "   2.2053\n",
      "   2.2016\n",
      "   2.2066\n",
      "   2.2095\n",
      "   2.2002\n",
      "   2.2093\n",
      "   2.2074\n",
      "   2.2047\n",
      "   2.2006\n",
      "   2.2021\n",
      "   2.2011\n",
      "   2.2031\n",
      "   2.2043\n",
      "   2.2069\n",
      "   2.2039\n",
      "   2.2046\n",
      "   2.2039\n",
      "   2.2041\n",
      "   2.2082\n",
      "   2.2008\n",
      "   2.2097\n",
      "   2.2022\n",
      "   2.2062\n",
      "   2.2019\n",
      "   2.2093\n",
      "   2.2072\n",
      "   2.2030\n",
      "   2.2026\n",
      "   2.2099\n",
      "   2.2045\n",
      "   2.2083\n",
      "   2.2079\n",
      "   2.2078\n",
      "   2.2073\n",
      "   2.2097\n",
      "   2.2003\n",
      "   2.2084\n",
      "   2.2048\n",
      "   2.2087\n",
      "   2.2002\n",
      "   2.2058\n",
      "   2.2088\n",
      "   2.2083\n",
      "   2.2097\n",
      "   2.2098\n",
      "   2.2016\n",
      "   2.2063\n",
      "   2.2094\n",
      "   2.2049\n",
      "   2.2053\n",
      "   2.2041\n",
      "   2.2050\n",
      "   2.2088\n",
      "   2.2033\n",
      "   2.2079\n",
      "   2.2002\n",
      "   2.2089\n",
      "   2.2045\n",
      "   2.2025\n",
      "   2.2070\n",
      "   2.2048\n",
      "   2.2063\n",
      "   2.2084\n",
      "   2.2080\n",
      "   2.2076\n",
      "   2.2003\n",
      "   2.2005\n",
      "   2.2075\n",
      "   2.2049\n",
      "   2.2035\n",
      "   2.2051\n",
      "   2.2083\n",
      "   2.2003\n",
      "   2.2096\n",
      "   2.2032\n",
      "   2.2089\n",
      "   2.2094\n",
      "   2.2077\n",
      "   2.2091\n",
      "\n",
      "ld =  100\n",
      "Start preprocessing...\n",
      "k =  1\n",
      "k =  2\n",
      "k =  3\n",
      "k =  4\n",
      "k =  5\n",
      "k =  6\n",
      "k =  7\n",
      "k =  8\n",
      "k =  9\n",
      "k =  10\n",
      "k =  11\n",
      "k =  12\n",
      "k =  13\n",
      "k =  14\n",
      "k =  15\n",
      "k =  16\n",
      "k =  17\n",
      "k =  18\n",
      "k =  19\n",
      "k =  20\n",
      "k =  21\n",
      "k =  22\n",
      "k =  23\n",
      "k =  24\n",
      "k =  25\n",
      "k =  26\n",
      "k =  27\n",
      "k =  28\n",
      "k =  29\n",
      "k =  30\n",
      "k =  31\n",
      "k =  32\n",
      "k =  33\n",
      "k =  34\n",
      "k =  35\n",
      "k =  36\n",
      "k =  37\n",
      "k =  38\n",
      "k =  39\n",
      "k =  40\n",
      "k =  41\n",
      "k =  42\n",
      "k =  43\n",
      "k =  44\n",
      "k =  45\n",
      "k =  46\n",
      "k =  47\n",
      "k =  48\n",
      "k =  49\n",
      "k =  50\n",
      "k =  51\n",
      "k =  52\n",
      "k =  53\n",
      "k =  54\n",
      "k =  55\n",
      "k =  56\n",
      "k =  57\n",
      "k =  58\n",
      "k =  59\n",
      "k =  60\n",
      "k =  61\n",
      "k =  62\n",
      "k =  63\n",
      "k =  64\n",
      "k =  65\n",
      "k =  66\n",
      "k =  67\n",
      "k =  68\n",
      "k =  69\n",
      "k =  70\n",
      "k =  71\n",
      "k =  72\n",
      "k =  73\n",
      "k =  74\n",
      "k =  75\n",
      "k =  76\n",
      "k =  77\n",
      "k =  78\n",
      "k =  79\n",
      "k =  80\n",
      "k =  81\n",
      "k =  82\n",
      "k =  83\n",
      "k =  84\n",
      "k =  85\n",
      "k =  86\n",
      "k =  87\n",
      "k =  88\n",
      "k =  89\n",
      "k =  90\n",
      "k =  91\n",
      "k =  92\n",
      "k =  93\n",
      "k =  94\n",
      "k =  95\n",
      "k =  96\n",
      "k =  97\n",
      "k =  98\n",
      "k =  99\n",
      "k =  100\n",
      "k =  101\n",
      "k =  102\n",
      "k =  103\n",
      "k =  104\n",
      "k =  105\n",
      "k =  106\n",
      "k =  107\n",
      "k =  108\n",
      "k =  109\n",
      "k =  110\n",
      "k =  111\n",
      "k =  112\n",
      "k =  113\n",
      "k =  114\n",
      "k =  115\n",
      "k =  116\n",
      "k =  117\n",
      "k =  118\n",
      "k =  119\n",
      "k =  120\n",
      "k =  121\n",
      "k =  122\n",
      "k =  123\n",
      "k =  124\n",
      "k =  125\n",
      "k =  126\n",
      "k =  127\n",
      "k =  128\n",
      "k =  129\n",
      "k =  130\n",
      "k =  131\n",
      "k =  132\n",
      "k =  133\n",
      "k =  134\n",
      "k =  135\n",
      "k =  136\n",
      "k =  137\n",
      "k =  138\n",
      "k =  139\n",
      "k =  140\n",
      "k =  141\n",
      "k =  142\n",
      "k =  143\n",
      "k =  144\n",
      "k =  145\n",
      "k =  146\n",
      "k =  147\n",
      "k =  148\n",
      "k =  149\n",
      "k =  150\n",
      "k =  151\n",
      "k =  152\n",
      "k =  153\n",
      "k =  154\n",
      "k =  155\n",
      "k =  156\n",
      "k =  157\n",
      "k =  158\n",
      "k =  159\n",
      "k =  160\n",
      "k =  161\n",
      "k =  162\n",
      "k =  163\n",
      "k =  164\n",
      "k =  165\n",
      "k =  166\n",
      "k =  167\n",
      "k =  168\n",
      "k =  169\n",
      "k =  170\n",
      "k =  171\n",
      "k =  172\n",
      "k =  173\n",
      "k =  174\n",
      "k =  175\n",
      "k =  176\n",
      "k =  177\n",
      "k =  178\n",
      "k =  179\n",
      "k =  180\n",
      "k =  181\n",
      "k =  182\n",
      "k =  183\n",
      "k =  184\n",
      "k =  185\n",
      "k =  186\n",
      "k =  187\n",
      "k =  188\n",
      "k =  189\n",
      "k =  190\n",
      "k =  191\n",
      "k =  192\n",
      "k =  193\n",
      "k =  194\n",
      "k =  195\n",
      "k =  196\n",
      "k =  197\n",
      "k =  198\n",
      "k =  199"
     ]
    }
   ],
   "source": [
    "printf('Optimizing q\\r\\n');\n",
    "iqs = 2.2 + 0.01 * rand(opts.Ms,1)\n",
    "ld = 100\n",
    "qs = mul_grad_q(models, criterion, opts, iter=10000, lr=1e-2, lambda=ld, init_q=iqs)\n",
    "[mu_dGP,s2_dGP,t_dGP_predict] = mul_aggregation_predict(xt,models,criterion,qs) ;\n",
    "[SMSE,MSLL,NLPD] = evaluate(x, y, xt, yt, mu_dGP, s2_dGP);\n",
    "printf('%s: SMSE %6.8f, MSLL %6.4f, NLPD %6.4f\\r\\n', criterion, SMSE,MSLL,NLPD);"
   ]
  },
  {
   "cell_type": "code",
   "execution_count": null,
   "metadata": {
    "scrolled": true
   },
   "outputs": [],
   "source": [
    "printf('Optimizing q\\r\\n');\n",
    "iqs = 0.4 + 0.01 * rand(opts.Ms,1)\n",
    "ld = 100\n",
    "qs = mul_grad_q(models, criterion, opts, iter=10000, lr=1e-2, lambda=ld, init_q=iqs)\n",
    "[mu_dGP,s2_dGP,t_dGP_predict] = mul_aggregation_predict(xt,models,criterion,qs) ;\n",
    "[SMSE,MSLL,NLPD] = evaluate(x, y, xt, yt, mu_dGP, s2_dGP);\n",
    "printf('%s: SMSE %6.8f, MSLL %6.4f, NLPD %6.4f\\r\\n', criterion, SMSE,MSLL,NLPD);"
   ]
  },
  {
   "cell_type": "markdown",
   "metadata": {},
   "source": [
    "## 1.2 GRBCM vs TEGRBCM"
   ]
  },
  {
   "cell_type": "code",
   "execution_count": null,
   "metadata": {},
   "outputs": [],
   "source": [
    "criterions = {'GRBCM'}; %, 'GPoE', 'KLRBCM', 'KLGRBCM', 'GRBCM'\n",
    "\n",
    "for j = 1:length(criterions)     \n",
    "    criterion = criterions{j};\n",
    "    printf('Processing %s %s %s\\r\\n', dataset, partitionCriterion, criterion);\n",
    "    opts.partitionCriterion = partitionCriterion ;\n",
    "    %[models,t_dGP_train] = aggregation_train(x,y,opts) ;\n",
    "    [mu_dGP,s2_dGP,t_dGP_predict] = aggregation_predict(xt,models,criterion) ;\n",
    "    [SMSE,MSLL,NLPD] = evaluate(x, y, xt, yt, mu_dGP, s2_dGP);\n",
    "    printf('%s: SMSE %6.8f, MSLL %6.4f, NLPD %6.4f\\r\\n', criterion, SMSE,MSLL,NLPD);\n",
    "    filename = sprintf('./res/%s_%s_%s.mat', dataset, partitionCriterion, criterion);\n",
    "    save(filename, 'SMSE','MSLL','NLPD')\n",
    "endfor"
   ]
  },
  {
   "cell_type": "markdown",
   "metadata": {},
   "source": [
    "### 1.2.4 Find multi q"
   ]
  },
  {
   "cell_type": "code",
   "execution_count": null,
   "metadata": {},
   "outputs": [],
   "source": [
    "criterion = 'TEGRBCM';"
   ]
  },
  {
   "cell_type": "code",
   "execution_count": null,
   "metadata": {
    "scrolled": true
   },
   "outputs": [],
   "source": [
    "printf('Optimizing q\\r\\n');\n",
    "iqs = 2.0 + 0.01 * rand(opts.Ms,1)\n",
    "ld = 100\n",
    "qs = mul_grad_q(models, criterion, opts, iter=10000, lr=1e-2, lambda=ld, init_q=iqs)\n",
    "[mu_dGP,s2_dGP,t_dGP_predict] = mul_aggregation_predict(xt,models,criterion,qs) ;\n",
    "[SMSE,MSLL,NLPD] = evaluate(x, y, xt, yt, mu_dGP, s2_dGP);\n",
    "printf('%s: SMSE %6.8f, MSLL %6.4f, NLPD %6.4f\\r\\n', criterion, SMSE,MSLL,NLPD);"
   ]
  },
  {
   "cell_type": "code",
   "execution_count": null,
   "metadata": {
    "scrolled": true
   },
   "outputs": [],
   "source": [
    "printf('Optimizing q\\r\\n');\n",
    "iqs = 0.2 + 0.01 * rand(opts.Ms,1)\n",
    "ld = 100\n",
    "qs = mul_grad_q(models, criterion, opts, iter=10000, lr=1e-2, lambda=ld, init_q=iqs)\n",
    "[mu_dGP,s2_dGP,t_dGP_predict] = mul_aggregation_predict(xt,models,criterion,qs) ;\n",
    "[SMSE,MSLL,NLPD] = evaluate(x, y, xt, yt, mu_dGP, s2_dGP);\n",
    "printf('%s: SMSE %6.8f, MSLL %6.4f, NLPD %6.4f\\r\\n', criterion, SMSE,MSLL,NLPD);"
   ]
  },
  {
   "cell_type": "markdown",
   "metadata": {},
   "source": [
    "## 1.3 GPoE vs TEGPoE"
   ]
  },
  {
   "cell_type": "code",
   "execution_count": null,
   "metadata": {},
   "outputs": [],
   "source": [
    "criterions = {'GPoE'}; %, 'GPoE', 'KLRBCM', 'KLGRBCM', 'GRBCM'\n",
    "\n",
    "for j = 1:length(criterions)     \n",
    "    criterion = criterions{j};\n",
    "    printf('Processing %s %s %s\\r\\n', dataset, partitionCriterion, criterion);\n",
    "    opts.partitionCriterion = partitionCriterion ;\n",
    "    %[models,t_dGP_train] = aggregation_train(x,y,opts) ;\n",
    "    [mu_dGP,s2_dGP,t_dGP_predict] = aggregation_predict(xt,models,criterion) ;\n",
    "    [SMSE,MSLL,NLPD] = evaluate(x, y, xt, yt, mu_dGP, s2_dGP);\n",
    "    printf('%s: SMSE %6.8f, MSLL %6.4f, NLPD %6.4f\\r\\n', criterion, SMSE,MSLL,NLPD);\n",
    "    filename = sprintf('./res/%s_%s_%s.mat', dataset, partitionCriterion, criterion);\n",
    "    save(filename, 'SMSE','MSLL','NLPD')\n",
    "endfor"
   ]
  },
  {
   "cell_type": "markdown",
   "metadata": {},
   "source": [
    "### 1.3.4 Find multi q"
   ]
  },
  {
   "cell_type": "code",
   "execution_count": null,
   "metadata": {},
   "outputs": [],
   "source": [
    "criterion = 'TEGPoE';"
   ]
  },
  {
   "cell_type": "code",
   "execution_count": null,
   "metadata": {
    "scrolled": true
   },
   "outputs": [],
   "source": [
    "printf('Optimizing q\\r\\n');\n",
    "iqs = 2.0 + 0.01 * rand(opts.Ms,1)\n",
    "ld = 10\n",
    "qs = mul_grad_q(models, criterion, opts, iter=10000, lr=1e-2, lambda=ld, init_q=iqs)\n",
    "[mu_dGP,s2_dGP,t_dGP_predict] = mul_aggregation_predict(xt,models,criterion,qs) ;\n",
    "[SMSE,MSLL,NLPD] = evaluate(x, y, xt, yt, mu_dGP, s2_dGP);\n",
    "printf('%s: SMSE %6.8f, MSLL %6.4f, NLPD %6.4f\\r\\n', criterion, SMSE,MSLL,NLPD);"
   ]
  },
  {
   "cell_type": "code",
   "execution_count": null,
   "metadata": {
    "scrolled": true
   },
   "outputs": [],
   "source": [
    "printf('Optimizing q\\r\\n');\n",
    "iqs = 1.8 + 0.01 * rand(opts.Ms,1)\n",
    "ld = 10\n",
    "qs = mul_grad_q(models, criterion, opts, iter=10000, lr=1e-2, lambda=ld, init_q=iqs)\n",
    "[mu_dGP,s2_dGP,t_dGP_predict] = mul_aggregation_predict(xt,models,criterion,qs) ;\n",
    "[SMSE,MSLL,NLPD] = evaluate(x, y, xt, yt, mu_dGP, s2_dGP);\n",
    "printf('%s: SMSE %6.8f, MSLL %6.4f, NLPD %6.4f\\r\\n', criterion, SMSE,MSLL,NLPD);"
   ]
  },
  {
   "cell_type": "code",
   "execution_count": null,
   "metadata": {},
   "outputs": [],
   "source": []
  }
 ],
 "metadata": {
  "kernelspec": {
   "display_name": "Octave",
   "language": "octave",
   "name": "octave"
  },
  "language_info": {
   "file_extension": ".m",
   "help_links": [
    {
     "text": "GNU Octave",
     "url": "https://www.gnu.org/software/octave/support.html"
    },
    {
     "text": "Octave Kernel",
     "url": "https://github.com/Calysto/octave_kernel"
    },
    {
     "text": "MetaKernel Magics",
     "url": "https://metakernel.readthedocs.io/en/latest/source/README.html"
    }
   ],
   "mimetype": "text/x-octave",
   "name": "octave",
   "version": "4.0.0"
  }
 },
 "nbformat": 4,
 "nbformat_minor": 2
}

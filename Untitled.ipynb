{
 "cells": [
  {
   "cell_type": "code",
   "execution_count": 9,
   "metadata": {},
   "outputs": [
    {
     "name": "stdout",
     "output_type": "stream",
     "text": [
      "x0 =  0.13510\n",
      "x1 =  0.10974\n",
      "g =   -2.5360e+04\n",
      "gg = -0.43075\n"
     ]
    }
   ],
   "source": [
    "si=5; ss=10;\n",
    "\n",
    "q=1.5;\n",
    "\n",
    "x0=sqrt(2*pi) / (sqrt(q)*(q-1)) * (si / (sqrt(2*pi)*si)^q -  ss / (sqrt(2*pi)*ss)^q)\n",
    "\n",
    "d=0.000001;\n",
    "x1=sqrt(2*pi) / (sqrt(q+d)*(q+d-1)) * (sqrt(si) / (sqrt(2*pi)*sqrt(si))^(q+d) -  sqrt(ss) / (sqrt(2*pi)*sqrt(ss))^(q+d))\n",
    "\n",
    "g = (x1-x0)/d\n",
    "\n",
    "gg = 1 / ((-1+q)^2 * q^1.5) * 2^(-0.5-q) * pi^(0.5-q) * si^(-q) * ss^(-q) * (-(-si^q * ss + si * ss^q)*(2^(1+0.5*q)*pi^(0.5*q)*q + (2*pi)^(0.5*q)*(-1+q)*(1+q*log(2*pi))) - 2^(1+0.5*q)*pi^(0.5*q)*(-1+q)*q*si*ss^q*log(si) + 2^(1+0.5*q)*pi^(0.5*q)*(-1+q)*q*si^q*ss*log(ss))"
   ]
  },
  {
   "cell_type": "code",
   "execution_count": 8,
   "metadata": {},
   "outputs": [
    {
     "name": "stdout",
     "output_type": "stream",
     "text": [
      "x0 =  0.13510\n",
      "x1 =  0.13510\n",
      "g = -0.43075\n",
      "gg = -0.43075\n"
     ]
    }
   ],
   "source": [
    "si=5; ss=10;\n",
    "\n",
    "q=1.5;\n",
    "\n",
    "x0=1 / (q-1) * (q^-0.5 * (si .* sqrt(2*pi)).^(1-q) - q^-0.5 * (ss .* sqrt(2*pi)).^(1-q))\n",
    "\n",
    "d=0.000001;\n",
    "x1=1 / (q+d-1) * ((q+d)^-0.5 * (si *sqrt(2*pi))^(1-q-d) - (q+d)^-0.5 * (ss *sqrt(2*pi))^(1-q-d))\n",
    "\n",
    "g = (x1-x0)/d\n",
    "\n",
    "gg = 1 / ((-1+q)^2 * q^1.5) * 2^(-0.5-q) * pi^(0.5-q) * si^(-q) * ss^(-q) * (-(-si^q * ss + si * ss^q)*(2^(1+0.5*q)*pi^(0.5*q)*q + (2*pi)^(0.5*q)*(-1+q)*(1+q*log(2*pi))) - 2^(1+0.5*q)*pi^(0.5*q)*(-1+q)*q*si*ss^q*log(si) + 2^(1+0.5*q)*pi^(0.5*q)*(-1+q)*q*si^q*ss*log(ss))"
   ]
  },
  {
   "cell_type": "code",
   "execution_count": null,
   "metadata": {},
   "outputs": [],
   "source": []
  }
 ],
 "metadata": {
  "kernelspec": {
   "display_name": "Octave",
   "language": "octave",
   "name": "octave"
  },
  "language_info": {
   "file_extension": ".m",
   "help_links": [
    {
     "text": "GNU Octave",
     "url": "https://www.gnu.org/software/octave/support.html"
    },
    {
     "text": "Octave Kernel",
     "url": "https://github.com/Calysto/octave_kernel"
    },
    {
     "text": "MetaKernel Magics",
     "url": "https://metakernel.readthedocs.io/en/latest/source/README.html"
    }
   ],
   "mimetype": "text/x-octave",
   "name": "octave",
   "version": "4.0.0"
  }
 },
 "nbformat": 4,
 "nbformat_minor": 2
}

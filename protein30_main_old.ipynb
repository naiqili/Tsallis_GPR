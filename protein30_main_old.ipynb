{
 "cells": [
  {
   "cell_type": "markdown",
   "metadata": {},
   "source": [
    "# 1. Protein"
   ]
  },
  {
   "cell_type": "markdown",
   "metadata": {},
   "source": [
    "## 1.0 Startup"
   ]
  },
  {
   "cell_type": "code",
   "execution_count": 1,
   "metadata": {},
   "outputs": [
    {
     "name": "stdout",
     "output_type": "stream",
     "text": [
      "executing gpml startup script...\r\n"
     ]
    }
   ],
   "source": [
    "disp ('executing gpml startup script...')\n",
    "mydir = fileparts (mfilename ('fullpath'));                 % where am I located\n",
    "addpath (mydir)\n",
    "dirs = {'cov','doc','inf','lik','mean','prior','util'};           % core folders\n",
    "for d = dirs, addpath (fullfile (mydir, d{1})), end\n",
    "dirs = {{'util','minfunc'},{'util','minfunc','compiled'}};     % minfunc folders\n",
    "for d = dirs, addpath (fullfile (mydir, d{1}{:})), end\n",
    "% addpath([mydir,'/util/sparseinv'])\n",
    "pkg load statistics"
   ]
  },
  {
   "cell_type": "code",
   "execution_count": 2,
   "metadata": {},
   "outputs": [
    {
     "name": "stdout",
     "output_type": "stream",
     "text": [
      "dataset = protein\r\n"
     ]
    }
   ],
   "source": [
    "dataset = 'protein'\n",
    "load ('./data/protein.mat');\n",
    "[ndata, ~] = size(M);\n",
    "X = M(:,2:9);\n",
    "Y = M(:,1);\n",
    "R = randperm(ndata);        \n",
    "xt = X(R(1:5730),:);\n",
    "yt = Y(R(1:5730));\n",
    "R(1:5730) = [];\n",
    "x = X(R,:);          \n",
    "y = Y(R);\n",
    "n = 40000; nt = 5730;   %Ms = 50"
   ]
  },
  {
   "cell_type": "code",
   "execution_count": 3,
   "metadata": {},
   "outputs": [],
   "source": [
    "sf2 = 1 ; ell = 1 ; sn2 = 0.1 ; \n",
    "d = size(x,2);\n",
    "hyp.cov = log([ones(d,1)*ell;sf2]); hyp.lik = log(sn2); hyp.mean = [];\n",
    "opts.Xnorm = 'Y' ; opts.Ynorm = 'Y' ;\n",
    "opts.Ms = 30 ;\n",
    "opts.ell = ell ; opts.sf2 = sf2 ; opts.sn2 = sn2 ;\n",
    "opts.meanfunc = []; opts.covfunc = @covSEard; opts.likfunc = @likGauss; opts.inffunc = @infGaussLik ;"
   ]
  },
  {
   "cell_type": "code",
   "execution_count": null,
   "metadata": {},
   "outputs": [],
   "source": [
    "partitionCriterion = 'kmeans'; %, 'kmeans', 'knkmeans'\n",
    "opts.numOptFC = 25 ;\n",
    "opts.partitionCriterion = partitionCriterion ;\n",
    "[models,t_dGP_train] = aggregation_train(x,y,opts) ;\n",
    "save('./res/energymodel', 'models','t_dGP_train')"
   ]
  },
  {
   "cell_type": "code",
   "execution_count": 4,
   "metadata": {},
   "outputs": [],
   "source": [
    "partitionCriterion = 'kmeans'; %, 'kmeans', 'knkmeans'\n",
    "opts.numOptFC = 25 ;\n",
    "opts.partitionCriterion = partitionCriterion ;\n",
    "s = load('./res/proteinmodel30');\n",
    "models = s.models;\n"
   ]
  },
  {
   "cell_type": "code",
   "execution_count": 5,
   "metadata": {
    "scrolled": true
   },
   "outputs": [
    {
     "name": "stdout",
     "output_type": "stream",
     "text": [
      "Processing protein kmeans BCM\n",
      "BCM: SMSE 6.70721003, MSLL -0.7674, NLPD 2.4637\n",
      "Processing protein kmeans PoE\n",
      "PoE: SMSE 26.51998942, MSLL 9.3805, NLPD 12.6116\n"
     ]
    }
   ],
   "source": [
    "criterions = {'BCM','PoE'}; %, 'GPoE', 'KLRBCM', 'KLGRBCM', 'GRBCM'\n",
    "\n",
    "for j = 1:length(criterions)     \n",
    "    criterion = criterions{j};\n",
    "    printf('Processing %s %s %s\\r\\n', dataset, partitionCriterion, criterion);\n",
    "    [mu_dGP,s2_dGP,t_dGP_predict] = aggregation_predict(xt,models,criterion) ;\n",
    "    [SMSE,MSLL,NLPD] = evaluate(x, y, xt, yt, mu_dGP, s2_dGP);\n",
    "    printf('%s: SMSE %6.8f, MSLL %6.4f, NLPD %6.4f\\r\\n', criterion, SMSE,MSLL,NLPD);\n",
    "    filename = sprintf('./res/%s_%s_%s.mat', dataset, partitionCriterion, criterion);\n",
    "    save(filename, 'SMSE','MSLL','NLPD')\n",
    "endfor"
   ]
  },
  {
   "cell_type": "markdown",
   "metadata": {},
   "source": [
    "## 1.1 RBCM vs TERBCM"
   ]
  },
  {
   "cell_type": "markdown",
   "metadata": {},
   "source": [
    "### 1.1.1 RBCM baseline"
   ]
  },
  {
   "cell_type": "code",
   "execution_count": 5,
   "metadata": {},
   "outputs": [
    {
     "name": "stdout",
     "output_type": "stream",
     "text": [
      "Processing protein kmeans RBCM\n",
      "RBCM: SMSE 6.20729156, MSLL -0.8720, NLPD 2.3627\n"
     ]
    }
   ],
   "source": [
    "criterions = {'RBCM'}; %, 'GPoE', 'KLRBCM', 'KLGRBCM', 'GRBCM'\n",
    "\n",
    "for j = 1:length(criterions)     \n",
    "    criterion = criterions{j};\n",
    "    printf('Processing %s %s %s\\r\\n', dataset, partitionCriterion, criterion);\n",
    "    [mu_dGP,s2_dGP,t_dGP_predict] = aggregation_predict(xt,models,criterion) ;\n",
    "    [SMSE,MSLL,NLPD] = evaluate(x, y, xt, yt, mu_dGP, s2_dGP);\n",
    "    printf('%s: SMSE %6.8f, MSLL %6.4f, NLPD %6.4f\\r\\n', criterion, SMSE,MSLL,NLPD);\n",
    "    filename = sprintf('./res/%s_%s_%s.mat', dataset, partitionCriterion, criterion);\n",
    "    save(filename, 'SMSE','MSLL','NLPD')\n",
    "endfor"
   ]
  },
  {
   "cell_type": "markdown",
   "metadata": {},
   "source": [
    "### 1.1.2 Grid q"
   ]
  },
  {
   "cell_type": "code",
   "execution_count": 6,
   "metadata": {
    "scrolled": true
   },
   "outputs": [
    {
     "name": "stdout",
     "output_type": "stream",
     "text": [
      "Processing protein kmeans TERBCM\n",
      "TERBCM: SMSE 6.05652218, MSLL -0.4614, NLPD 2.7733 - q   0.20\n",
      "TERBCM: SMSE 5.85902334, MSLL -0.7736, NLPD 2.4611 - q   0.40\n",
      "TERBCM: SMSE 5.83755318, MSLL -0.8629, NLPD 2.3718 - q   0.60\n",
      "TERBCM: SMSE 5.95576436, MSLL -0.8829, NLPD 2.3518 - q   0.80\n",
      "TERBCM: SMSE 6.20729156, MSLL -0.8720, NLPD 2.3627 - q   1.00\n",
      "TERBCM: SMSE 6.59058925, MSLL -0.8449, NLPD 2.3898 - q   1.20\n",
      "TERBCM: SMSE 7.10295684, MSLL -0.8090, NLPD 2.4257 - q   1.40\n",
      "TERBCM: SMSE 7.73861058, MSLL -0.7682, NLPD 2.4665 - q   1.60\n",
      "TERBCM: SMSE 8.48825205, MSLL -0.7252, NLPD 2.5095 - q   1.80\n",
      "TERBCM: SMSE 9.33938940, MSLL -0.6814, NLPD 2.5533 - q   2.00\n"
     ]
    }
   ],
   "source": [
    "partitionCriterions = {'kmeans'}; % 'random', 'kmeans', 'knkmeans'\n",
    "criterions = {'TERBCM'}; %, 'TEGRBCM' 'TEGPoE'};\n",
    "qs = 0.2:0.2:2.0;\n",
    "\n",
    "for i = 1:length(partitionCriterions)\n",
    "    partitionCriterion = partitionCriterions{i};\n",
    "    for j = 1:length(criterions)     \n",
    "        criterion = criterions{j};\n",
    "        printf('Processing %s %s %s\\r\\n', dataset, partitionCriterion, criterion);\n",
    "        opts.partitionCriterion = partitionCriterion ;\n",
    "        %[models,t_dGP_train] = aggregation_train(x,y,opts) ;\n",
    "        for q = qs\n",
    "            [mu_dGP,s2_dGP,t_dGP_predict] = aggregation_predict(xt,models,criterion,q) ;\n",
    "            [SMSE,MSLL,NLPD] = evaluate(x, y, xt, yt, mu_dGP, s2_dGP);\n",
    "            printf('%s: SMSE %6.8f, MSLL %6.4f, NLPD %6.4f - q %6.2f\\r\\n', criterion, SMSE,MSLL,NLPD,q);\n",
    "            filename = sprintf('./res/terbcm%s_%s_%s_%6.2f.mat', dataset, partitionCriterion, criterion, q);\n",
    "            save(filename, 'SMSE','MSLL','NLPD')\n",
    "        endfor\n",
    "    endfor\n",
    "endfor\n"
   ]
  },
  {
   "cell_type": "markdown",
   "metadata": {},
   "source": [
    "### 1.1.3 Find single q"
   ]
  },
  {
   "cell_type": "code",
   "execution_count": 7,
   "metadata": {},
   "outputs": [],
   "source": [
    "criterion = 'TERBCM';"
   ]
  },
  {
   "cell_type": "code",
   "execution_count": 8,
   "metadata": {},
   "outputs": [
    {
     "name": "stdout",
     "output_type": "stream",
     "text": [
      "Optimizing q\n",
      "Start preprocessing...\n",
      "Finish preprocessing...\n",
      "Optimizing q: remain iter - 1000, q - 0.8000\n"
     ]
    }
   ],
   "source": [
    "printf('Optimizing q\\r\\n');\n",
    "q = grad_q(models, criterion, opts, iter=1000, lr=1e-9, lambda=1e6, init_q=0.8);"
   ]
  },
  {
   "cell_type": "code",
   "execution_count": 9,
   "metadata": {
    "scrolled": false
   },
   "outputs": [
    {
     "name": "stdout",
     "output_type": "stream",
     "text": [
      "TERBCM: SMSE 5.98115851, MSLL -0.8828, NLPD 2.3519\r",
      "\r\n"
     ]
    }
   ],
   "source": [
    "[mu_dGP,s2_dGP,t_dGP_predict] = aggregation_predict(xt,models,criterion,q) ;\n",
    "[SMSE,MSLL,NLPD] = evaluate(x, y, xt, yt, mu_dGP, s2_dGP);\n",
    "printf('%s: SMSE %6.8f, MSLL %6.4f, NLPD %6.4f\\r\\n', criterion, SMSE,MSLL,NLPD);"
   ]
  },
  {
   "cell_type": "markdown",
   "metadata": {},
   "source": [
    "### 1.1.4 Find multi q"
   ]
  },
  {
   "cell_type": "code",
   "execution_count": 10,
   "metadata": {},
   "outputs": [],
   "source": [
    "criterion = 'TERBCM';"
   ]
  },
  {
   "cell_type": "code",
   "execution_count": 12,
   "metadata": {
    "scrolled": true
   },
   "outputs": [
    {
     "name": "stdout",
     "output_type": "stream",
     "text": [
      "qs =\n",
      "\n",
      "   1.59347\n",
      "   1.18573\n",
      "   0.83674\n",
      "   0.86710\n",
      "   1.06758\n",
      "   0.86202\n",
      "   0.83603\n",
      "   0.84873\n",
      "   1.24119\n",
      "   0.83476\n",
      "   0.83545\n",
      "   1.05948\n",
      "   1.02676\n",
      "   1.01742\n",
      "   0.98275\n",
      "   0.95305\n",
      "   0.82681\n",
      "   0.92116\n",
      "   0.88719\n",
      "   0.83332\n",
      "   0.96864\n",
      "   0.84036\n",
      "   1.12098\n",
      "   0.85102\n",
      "   0.91291\n",
      "   1.17165\n",
      "   0.86299\n",
      "   0.98870\n",
      "   1.24237\n",
      "   0.85877\n",
      "\n",
      "TERBCM: SMSE 6.08457943, MSLL -0.8991, NLPD 2.3356\n"
     ]
    }
   ],
   "source": [
    "printf('Optimizing q\\r\\n');\n",
    "iqs = q + 0.01 * rand(opts.Ms,1);\n",
    "qs = mul_grad_q(models, criterion, opts, iter=1e4, lr=1e-3, lambda=1e3, init_q=iqs);\n",
    "[mu_dGP,s2_dGP,t_dGP_predict] = mul_aggregation_predict(xt,models,criterion,qs) ;\n",
    "[SMSE,MSLL,NLPD] = evaluate(x, y, xt, yt, mu_dGP, s2_dGP);\n",
    "qs;\n",
    "printf('%s: SMSE %6.8f, MSLL %6.4f, NLPD %6.4f\\r\\n', criterion, SMSE,MSLL,NLPD);"
   ]
  },
  {
   "cell_type": "markdown",
   "metadata": {},
   "source": [
    "## 1.2 GRBCM vs TEGRBCM"
   ]
  },
  {
   "cell_type": "markdown",
   "metadata": {},
   "source": [
    "### 1.2.1 GRBCM baseline"
   ]
  },
  {
   "cell_type": "code",
   "execution_count": 13,
   "metadata": {},
   "outputs": [
    {
     "name": "stdout",
     "output_type": "stream",
     "text": [
      "Processing protein kmeans GRBCM\n",
      "GRBCM: SMSE 6.54896199, MSLL -0.8536, NLPD 2.3811\n"
     ]
    }
   ],
   "source": [
    "criterions = {'GRBCM'}; %, 'GPoE', 'KLRBCM', 'KLGRBCM', 'GRBCM'\n",
    "\n",
    "for j = 1:length(criterions)     \n",
    "    criterion = criterions{j};\n",
    "    printf('Processing %s %s %s\\r\\n', dataset, partitionCriterion, criterion);\n",
    "    opts.partitionCriterion = partitionCriterion ;\n",
    "    %[models,t_dGP_train] = aggregation_train(x,y,opts) ;\n",
    "    [mu_dGP,s2_dGP,t_dGP_predict] = aggregation_predict(xt,models,criterion) ;\n",
    "    [SMSE,MSLL,NLPD] = evaluate(x, y, xt, yt, mu_dGP, s2_dGP);\n",
    "    printf('%s: SMSE %6.8f, MSLL %6.4f, NLPD %6.4f\\r\\n', criterion, SMSE,MSLL,NLPD);\n",
    "    filename = sprintf('./res/%s_%s_%s.mat', dataset, partitionCriterion, criterion);\n",
    "    save(filename, 'SMSE','MSLL','NLPD')\n",
    "endfor"
   ]
  },
  {
   "cell_type": "markdown",
   "metadata": {},
   "source": [
    "### 1.2.2 Grid q"
   ]
  },
  {
   "cell_type": "code",
   "execution_count": 14,
   "metadata": {
    "scrolled": true
   },
   "outputs": [
    {
     "name": "stdout",
     "output_type": "stream",
     "text": [
      "Processing protein kmeans TEGRBCM\n",
      "TEGRBCM: SMSE 5.34005633, MSLL -1.0150, NLPD 2.2197 - q   0.20\n",
      "TEGRBCM: SMSE 5.43758929, MSLL -0.9907, NLPD 2.2440 - q   0.40\n",
      "TEGRBCM: SMSE 5.70843339, MSLL -0.9452, NLPD 2.2895 - q   0.60\n",
      "TEGRBCM: SMSE 6.08545871, MSLL -0.8984, NLPD 2.3363 - q   0.80\n",
      "TEGRBCM: SMSE 6.54896199, MSLL -0.8536, NLPD 2.3811 - q   1.00\n",
      "TEGRBCM: SMSE 7.08744330, MSLL -0.8114, NLPD 2.4233 - q   1.20\n",
      "TEGRBCM: SMSE 7.69044448, MSLL -0.7719, NLPD 2.4628 - q   1.40\n",
      "TEGRBCM: SMSE 8.34684358, MSLL -0.7352, NLPD 2.4995 - q   1.60\n",
      "TEGRBCM: SMSE 9.04469748, MSLL -0.7013, NLPD 2.5334 - q   1.80\n",
      "TEGRBCM: SMSE 9.77163297, MSLL -0.6699, NLPD 2.5648 - q   2.00\n"
     ]
    }
   ],
   "source": [
    "criterions = {'TEGRBCM'}; %, 'TEGRBCM' 'TEGPoE'};\n",
    "qs = 0.2:0.2:2.0;\n",
    "\n",
    "for j = 1:length(criterions)     \n",
    "    criterion = criterions{j};\n",
    "    printf('Processing %s %s %s\\r\\n', dataset, partitionCriterion, criterion);\n",
    "    opts.partitionCriterion = partitionCriterion ;\n",
    "    %[models,t_dGP_train] = aggregation_train(x,y,opts) ;\n",
    "    for q = qs\n",
    "        [mu_dGP,s2_dGP,t_dGP_predict] = aggregation_predict(xt,models,criterion,q) ;\n",
    "        [SMSE,MSLL,NLPD] = evaluate(x, y, xt, yt, mu_dGP, s2_dGP);\n",
    "        printf('%s: SMSE %6.8f, MSLL %6.4f, NLPD %6.4f - q %6.2f\\r\\n', criterion, SMSE,MSLL,NLPD,q);\n",
    "        filename = sprintf('./res/tegrbcm%s_%s_%s_%6.2f.mat', dataset, partitionCriterion, criterion, q);\n",
    "        save(filename, 'SMSE','MSLL','NLPD')\n",
    "    endfor\n",
    "endfor"
   ]
  },
  {
   "cell_type": "markdown",
   "metadata": {},
   "source": [
    "### 1.2.3 Find single q"
   ]
  },
  {
   "cell_type": "code",
   "execution_count": 25,
   "metadata": {},
   "outputs": [],
   "source": [
    "criterion = 'TEGRBCM';"
   ]
  },
  {
   "cell_type": "code",
   "execution_count": 16,
   "metadata": {},
   "outputs": [
    {
     "name": "stdout",
     "output_type": "stream",
     "text": [
      "Optimizing q\n",
      "Start preprocessing...\n",
      "Finish preprocessing...\n",
      "Optimizing q: remain iter - 1000, q - 0.2000\n"
     ]
    }
   ],
   "source": [
    "printf('Optimizing q\\r\\n');\n",
    "q = grad_q(models, criterion, opts, iter=1000, lr=1e-9, lambda=1e6, init_q=0.2);"
   ]
  },
  {
   "cell_type": "code",
   "execution_count": 26,
   "metadata": {},
   "outputs": [
    {
     "name": "stdout",
     "output_type": "stream",
     "text": [
      "q =  1.0148\r\n"
     ]
    }
   ],
   "source": [
    "q"
   ]
  },
  {
   "cell_type": "code",
   "execution_count": 30,
   "metadata": {
    "scrolled": true
   },
   "outputs": [
    {
     "name": "stdout",
     "output_type": "stream",
     "text": [
      "TEGRBCM: SMSE 6.32478689, MSLL -0.8589, NLPD 2.3752\r",
      "\r\n"
     ]
    }
   ],
   "source": [
    "[mu_dGP,s2_dGP,t_dGP_predict] = aggregation_predict(xt,models,criterion,q) ;\n",
    "[SMSE,MSLL,NLPD] = evaluate(x, y, xt, yt, mu_dGP, s2_dGP);\n",
    "printf('%s: SMSE %6.8f, MSLL %6.4f, NLPD %6.4f\\r\\n', criterion, SMSE,MSLL,NLPD);"
   ]
  },
  {
   "cell_type": "markdown",
   "metadata": {},
   "source": [
    "### 1.2.4 Find multi q"
   ]
  },
  {
   "cell_type": "code",
   "execution_count": 27,
   "metadata": {},
   "outputs": [],
   "source": [
    "criterion = 'TEGRBCM';"
   ]
  },
  {
   "cell_type": "code",
   "execution_count": 28,
   "metadata": {
    "scrolled": true
   },
   "outputs": [
    {
     "name": "stdout",
     "output_type": "stream",
     "text": [
      "Optimizing q\n",
      "Start preprocessing...\n",
      "Finish preprocessing...\n"
     ]
    }
   ],
   "source": [
    "printf('Optimizing q\\r\\n');\n",
    "iqs = q + 0.01 * rand(opts.Ms,1);\n",
    "qs = mul_grad_q(models, criterion, opts, iter=1e4, lr=1e-3, lambda=1e3, init_q=iqs);\n",
    "[mu_dGP,s2_dGP,t_dGP_predict] = mul_aggregation_predict(xt,models,criterion,qs) ;\n",
    "[SMSE,MSLL,NLPD] = evaluate(x, y, xt, yt, mu_dGP, s2_dGP);"
   ]
  },
  {
   "cell_type": "code",
   "execution_count": 29,
   "metadata": {
    "scrolled": true
   },
   "outputs": [
    {
     "name": "stdout",
     "output_type": "stream",
     "text": [
      "qs =\n",
      "\n",
      "   1.0205\n",
      "   1.0195\n",
      "   1.0233\n",
      "   1.0180\n",
      "   1.0279\n",
      "   1.0234\n",
      "   1.0160\n",
      "   1.0219\n",
      "   1.0384\n",
      "   1.0229\n",
      "   1.0238\n",
      "   1.0341\n",
      "   1.0236\n",
      "   1.0247\n",
      "   1.0274\n",
      "   1.0229\n",
      "   1.0202\n",
      "   1.0253\n",
      "   1.0263\n",
      "   1.0218\n",
      "   1.0291\n",
      "   1.0166\n",
      "   1.0258\n",
      "   1.0181\n",
      "   1.0197\n",
      "   1.0299\n",
      "   1.0175\n",
      "   1.0303\n",
      "   1.0391\n",
      "   1.0193\n",
      "\n",
      "TEGRBCM: SMSE 6.35399328, MSLL -0.8566, NLPD 2.3776\n"
     ]
    }
   ],
   "source": [
    "qs\n",
    "save('./res/tegrbcmenergydataqs', 'qs');\n",
    "printf('%s: SMSE %6.8f, MSLL %6.4f, NLPD %6.4f\\r\\n', criterion, SMSE,MSLL,NLPD);"
   ]
  },
  {
   "cell_type": "markdown",
   "metadata": {},
   "source": [
    "## About lambda"
   ]
  },
  {
   "cell_type": "code",
   "execution_count": 5,
   "metadata": {},
   "outputs": [],
   "source": [
    "criterion = 'TEGRBCM';"
   ]
  },
  {
   "cell_type": "code",
   "execution_count": null,
   "metadata": {},
   "outputs": [
    {
     "name": "stdout",
     "output_type": "stream",
     "text": [
      "Optimizing q\n",
      "ld =    1.0000e-05\n",
      "Start preprocessing...\n",
      "Finish preprocessing...\n",
      "TEGRBCM: SMSE 5.18957461, MSLL -1.0184, NLPD 2.2127\n",
      "ld =    1.0000e-04\n",
      "Start preprocessing...\n",
      "Finish preprocessing...\n",
      "TEGRBCM: SMSE 5.18870262, MSLL -1.0183, NLPD 2.2128\n",
      "ld =  0.0010000\n",
      "Start preprocessing...\n",
      "Finish preprocessing...\n",
      "TEGRBCM: SMSE 5.18798795, MSLL -1.0181, NLPD 2.2130\n",
      "ld =  0.010000\n",
      "Start preprocessing...\n",
      "Finish preprocessing...\n",
      "TEGRBCM: SMSE 5.18910662, MSLL -1.0181, NLPD 2.2130\n",
      "ld =  0.10000\n",
      "Start preprocessing...\n",
      "Finish preprocessing...\n",
      "TEGRBCM: SMSE 5.18949789, MSLL -1.0177, NLPD 2.2134\n",
      "ld =  1\n",
      "Start preprocessing...\n",
      "Finish preprocessing...\n",
      "TEGRBCM: SMSE 5.18897132, MSLL -1.0180, NLPD 2.2131\n",
      "ld =  10\n",
      "Start preprocessing...\n",
      "Finish preprocessing...\n",
      "TEGRBCM: SMSE 5.19000257, MSLL -1.0185, NLPD 2.2126\n",
      "ld =  100\n",
      "Start preprocessing...\n",
      "Finish preprocessing...\n",
      "TEGRBCM: SMSE 5.19835618, MSLL -1.0209, NLPD 2.2102\n",
      "ld =  1000\n",
      "Start preprocessing...\r"
     ]
    }
   ],
   "source": [
    "printf('Optimizing q\\r\\n');\n",
    "for ldk=-5:10\n",
    "    ld = 10^ldk\n",
    "    iqs = q + 0.01 * rand(opts.Ms,1);\n",
    "    qs = mul_grad_q(models, criterion, opts, iter=10000, lr=1e-3, lambda=ld, init_q=iqs);\n",
    "    [mu_dGP,s2_dGP,t_dGP_predict] = mul_aggregation_predict(xt,models,criterion,qs) ;\n",
    "    [SMSE,MSLL,NLPD] = evaluate(x, y, xt, yt, mu_dGP, s2_dGP);\n",
    "    printf('%s: SMSE %6.8f, MSLL %6.4f, NLPD %6.4f\\r\\n', criterion, SMSE,MSLL,NLPD);\n",
    "endfor"
   ]
  },
  {
   "cell_type": "code",
   "execution_count": 7,
   "metadata": {},
   "outputs": [
    {
     "name": "stdout",
     "output_type": "stream",
     "text": [
      "Optimizing q\n",
      "ld =  1000\n",
      "Start preprocessing...\n",
      "Finish preprocessing...\n",
      "TEGRBCM: SMSE 5.08577750, MSLL -1.0266, NLPD 2.2078\n",
      "ld =  10000\n",
      "Start preprocessing...\n",
      "Finish preprocessing...\n",
      "TEGRBCM: SMSE 5.47430486, MSLL -0.9639, NLPD 2.2705\n",
      "ld =  100000\n",
      "Start preprocessing...\n",
      "Finish preprocessing...\n",
      "TEGRBCM: SMSE 6.85273930, MSLL -0.8280, NLPD 2.4065\n",
      "ld =  1000000\n",
      "Start preprocessing...\n",
      "Finish preprocessing...\n",
      "TEGRBCM: SMSE 10.00383418, MSLL -0.6597, NLPD 2.5747\n",
      "ld =  10000000\n",
      "Start preprocessing...\n",
      "Finish preprocessing...\n",
      "TEGRBCM: SMSE 14.59004134, MSLL -0.5115, NLPD 2.7229\n",
      "ld =  100000000\n",
      "Start preprocessing...\n",
      "Finish preprocessing...\n",
      "TEGRBCM: SMSE 18.82287530, MSLL -0.4139, NLPD 2.8206\n",
      "ld =    1.0000e+09\n",
      "Start preprocessing...\n",
      "\n",
      "\n",
      "\n"
     ]
    }
   ],
   "source": [
    "printf('Optimizing q\\r\\n');\n",
    "for ldk=3:10\n",
    "    ld = 10^ldk\n",
    "    iqs = q + 0.01 * rand(opts.Ms,1);\n",
    "    qs = mul_grad_q(models, criterion, opts, iter=10000, lr=1e-3, lambda=ld, init_q=iqs);\n",
    "    [mu_dGP,s2_dGP,t_dGP_predict] = mul_aggregation_predict(xt,models,criterion,qs) ;\n",
    "    [SMSE,MSLL,NLPD] = evaluate(x, y, xt, yt, mu_dGP, s2_dGP);\n",
    "    printf('%s: SMSE %6.8f, MSLL %6.4f, NLPD %6.4f\\r\\n', criterion, SMSE,MSLL,NLPD);\n",
    "endfor"
   ]
  },
  {
   "cell_type": "markdown",
   "metadata": {},
   "source": [
    "## 1.3 GPoE vs TEGPoE"
   ]
  },
  {
   "cell_type": "markdown",
   "metadata": {},
   "source": [
    "### 1.3.1 GPoE baseline"
   ]
  },
  {
   "cell_type": "code",
   "execution_count": 13,
   "metadata": {},
   "outputs": [
    {
     "name": "stdout",
     "output_type": "stream",
     "text": [
      "Processing protein kmeans GPoE\n",
      "GPoE: SMSE 5.77323823, MSLL -0.8301, NLPD 2.4041\n"
     ]
    }
   ],
   "source": [
    "criterions = {'GPoE'}; %, 'GPoE', 'KLRBCM', 'KLGRBCM', 'GRBCM'\n",
    "\n",
    "for j = 1:length(criterions)     \n",
    "    criterion = criterions{j};\n",
    "    printf('Processing %s %s %s\\r\\n', dataset, partitionCriterion, criterion);\n",
    "    opts.partitionCriterion = partitionCriterion ;\n",
    "    %[models,t_dGP_train] = aggregation_train(x,y,opts) ;\n",
    "    [mu_dGP,s2_dGP,t_dGP_predict] = aggregation_predict(xt,models,criterion) ;\n",
    "    [SMSE,MSLL,NLPD] = evaluate(x, y, xt, yt, mu_dGP, s2_dGP);\n",
    "    printf('%s: SMSE %6.8f, MSLL %6.4f, NLPD %6.4f\\r\\n', criterion, SMSE,MSLL,NLPD);\n",
    "    filename = sprintf('./res/%s_%s_%s.mat', dataset, partitionCriterion, criterion);\n",
    "    save(filename, 'SMSE','MSLL','NLPD')\n",
    "endfor"
   ]
  },
  {
   "cell_type": "markdown",
   "metadata": {},
   "source": [
    "### 1.3.2 Grid q"
   ]
  },
  {
   "cell_type": "code",
   "execution_count": 15,
   "metadata": {
    "scrolled": true
   },
   "outputs": [
    {
     "name": "stdout",
     "output_type": "stream",
     "text": [
      "Processing protein kmeans TEGPoE\n",
      "TEGPoE: SMSE 5.97491548, MSLL -0.1135, NLPD 3.1207 - q   0.20\n",
      "TEGPoE: SMSE 5.92421169, MSLL -0.5878, NLPD 2.6464 - q   0.40\n",
      "TEGPoE: SMSE 5.87360964, MSLL -0.7511, NLPD 2.4831 - q   0.60\n",
      "TEGPoE: SMSE 5.82324054, MSLL -0.8141, NLPD 2.4201 - q   0.80\n",
      "TEGPoE: SMSE 5.77323823, MSLL -0.8301, NLPD 2.4041 - q   1.00\n",
      "TEGPoE: SMSE 5.72373746, MSLL -0.8199, NLPD 2.4143 - q   1.20\n",
      "TEGPoE: SMSE 5.67487435, MSLL -0.7938, NLPD 2.4403 - q   1.40\n",
      "TEGPoE: SMSE 5.62677937, MSLL -0.7575, NLPD 2.4767 - q   1.60\n",
      "TEGPoE: SMSE 5.57957783, MSLL -0.7144, NLPD 2.5198 - q   1.80\n",
      "TEGPoE: SMSE 5.53338811, MSLL -0.6667, NLPD 2.5675 - q   2.00\n"
     ]
    }
   ],
   "source": [
    "partitionCriterions = {'kmeans'}; % 'random', 'kmeans', 'knkmeans'\n",
    "criterions = {'TEGPoE'}; %, 'TEGRBCM' 'TEGPoE'};\n",
    "qs = 0.2:0.2:2.0;\n",
    "\n",
    "for j = 1:length(criterions)     \n",
    "    criterion = criterions{j};\n",
    "    printf('Processing %s %s %s\\r\\n', dataset, partitionCriterion, criterion);\n",
    "    opts.partitionCriterion = partitionCriterion ;\n",
    "    %[models,t_dGP_train] = aggregation_train(x,y,opts) ;\n",
    "    for q = qs\n",
    "        [mu_dGP,s2_dGP,t_dGP_predict] = aggregation_predict(xt,models,criterion,q) ;\n",
    "        [SMSE,MSLL,NLPD] = evaluate(x, y, xt, yt, mu_dGP, s2_dGP);\n",
    "        printf('%s: SMSE %6.8f, MSLL %6.4f, NLPD %6.4f - q %6.2f\\r\\n', criterion, SMSE,MSLL,NLPD,q);\n",
    "        filename = sprintf('./res/tegpoe%s_%s_%s_%6.2f.mat', dataset, partitionCriterion, criterion, q);\n",
    "        save(filename, 'SMSE','MSLL','NLPD')\n",
    "    endfor\n",
    "endfor"
   ]
  },
  {
   "cell_type": "markdown",
   "metadata": {},
   "source": [
    "### 1.3.3 Find single q"
   ]
  },
  {
   "cell_type": "code",
   "execution_count": 16,
   "metadata": {},
   "outputs": [],
   "source": [
    "criterion = 'TEGPoE';"
   ]
  },
  {
   "cell_type": "code",
   "execution_count": 17,
   "metadata": {},
   "outputs": [
    {
     "name": "stdout",
     "output_type": "stream",
     "text": [
      "Optimizing q\n",
      "Start preprocessing...\n",
      "Finish preprocessing...\n",
      "Optimizing q: remain iter - 1000, q - 1.0001\n"
     ]
    }
   ],
   "source": [
    "printf('Optimizing q\\r\\n');\n",
    "q = grad_q(models, criterion, opts, iter=1000, lr=1e-9, lambda=1e6, init_q=1.0001);"
   ]
  },
  {
   "cell_type": "code",
   "execution_count": 18,
   "metadata": {},
   "outputs": [
    {
     "name": "stdout",
     "output_type": "stream",
     "text": [
      "TEGPoE: SMSE 5.76955217, MSLL -0.8300, NLPD 2.4041\r",
      "\r\n"
     ]
    }
   ],
   "source": [
    "[mu_dGP,s2_dGP,t_dGP_predict] = aggregation_predict(xt,models,criterion,q) ;\n",
    "[SMSE,MSLL,NLPD] = evaluate(x, y, xt, yt, mu_dGP, s2_dGP);\n",
    "printf('%s: SMSE %6.8f, MSLL %6.4f, NLPD %6.4f\\r\\n', criterion, SMSE,MSLL,NLPD);"
   ]
  },
  {
   "cell_type": "markdown",
   "metadata": {},
   "source": [
    "### 1.3.4 Find multi q"
   ]
  },
  {
   "cell_type": "code",
   "execution_count": null,
   "metadata": {},
   "outputs": [],
   "source": [
    "printf('Optimizing q\\r\\n');\n",
    "iqs = q + 0.01* rand(opts.Ms,1);\n",
    "qs = mul_grad_q(models, criterion, opts, iter=5000, lr=1e-8, lambda=1e6, init_q=iqs);"
   ]
  },
  {
   "cell_type": "code",
   "execution_count": 23,
   "metadata": {},
   "outputs": [],
   "source": [
    "[mu_dGP,s2_dGP,t_dGP_predict] = mul_aggregation_predict(xt,models,criterion,qs) ;\n",
    "[SMSE,MSLL,NLPD] = evaluate(x, y, xt, yt, mu_dGP, s2_dGP);"
   ]
  },
  {
   "cell_type": "code",
   "execution_count": 24,
   "metadata": {
    "scrolled": true
   },
   "outputs": [
    {
     "name": "stdout",
     "output_type": "stream",
     "text": [
      "qs =\n",
      "\n",
      "   1.0306\n",
      "   1.0204\n",
      "   1.0152\n",
      "   1.0169\n",
      "   1.0237\n",
      "   1.0204\n",
      "   1.0238\n",
      "   1.0173\n",
      "   1.0228\n",
      "   1.0172\n",
      "   1.0240\n",
      "   1.0240\n",
      "   1.0165\n",
      "   1.0246\n",
      "   1.0226\n",
      "   1.0236\n",
      "   1.0169\n",
      "   1.0199\n",
      "   1.0245\n",
      "   1.0171\n",
      "   1.0166\n",
      "   1.0237\n",
      "   1.0260\n",
      "   1.0206\n",
      "   1.0171\n",
      "   1.0249\n",
      "   1.0164\n",
      "   1.0168\n",
      "   1.0269\n",
      "   1.0187\n",
      "\n",
      "TEGPoE: SMSE 5.76570150, MSLL -0.8308, NLPD 2.4034\n"
     ]
    }
   ],
   "source": [
    "qs\n",
    "save('./res/tegpoeenergydataqs', 'qs');\n",
    "printf('%s: SMSE %6.8f, MSLL %6.4f, NLPD %6.4f\\r\\n', criterion, SMSE,MSLL,NLPD);"
   ]
  },
  {
   "cell_type": "code",
   "execution_count": null,
   "metadata": {},
   "outputs": [],
   "source": []
  }
 ],
 "metadata": {
  "kernelspec": {
   "display_name": "Octave",
   "language": "octave",
   "name": "octave"
  },
  "language_info": {
   "file_extension": ".m",
   "help_links": [
    {
     "text": "GNU Octave",
     "url": "https://www.gnu.org/software/octave/support.html"
    },
    {
     "text": "Octave Kernel",
     "url": "https://github.com/Calysto/octave_kernel"
    },
    {
     "text": "MetaKernel Magics",
     "url": "https://metakernel.readthedocs.io/en/latest/source/README.html"
    }
   ],
   "mimetype": "text/x-octave",
   "name": "octave",
   "version": "4.0.0"
  }
 },
 "nbformat": 4,
 "nbformat_minor": 2
}
